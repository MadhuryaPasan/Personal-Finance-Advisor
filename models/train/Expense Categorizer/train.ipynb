{
 "cells": [
  {
   "cell_type": "code",
   "execution_count": null,
   "id": "a7b33281",
   "metadata": {},
   "outputs": [
    {
     "data": {
      "application/vnd.microsoft.datawrangler.viewer.v0+json": {
       "columns": [
        {
         "name": "index",
         "rawType": "int64",
         "type": "integer"
        },
        {
         "name": "description",
         "rawType": "object",
         "type": "string"
        },
        {
         "name": "category",
         "rawType": "object",
         "type": "string"
        },
        {
         "name": "type",
         "rawType": "object",
         "type": "string"
        }
       ],
       "ref": "5352cb2d-a979-4e57-a00f-09d327e7b18f",
       "rows": [
        [
         "0",
         "Uber ride to office",
         "Transport",
         "Expense"
        ],
        [
         "1",
         "Pizza and coke",
         "Food",
         "Expense"
        ],
        [
         "2",
         "Monthly rent",
         "Rent",
         "Expense"
        ],
        [
         "3",
         "Netflix subscription",
         "Entertainment",
         "Expense"
        ],
        [
         "4",
         "Grocery shopping at Walmart",
         "Food",
         "Expense"
        ]
       ],
       "shape": {
        "columns": 3,
        "rows": 5
       }
      },
      "text/html": [
       "<div>\n",
       "<style scoped>\n",
       "    .dataframe tbody tr th:only-of-type {\n",
       "        vertical-align: middle;\n",
       "    }\n",
       "\n",
       "    .dataframe tbody tr th {\n",
       "        vertical-align: top;\n",
       "    }\n",
       "\n",
       "    .dataframe thead th {\n",
       "        text-align: right;\n",
       "    }\n",
       "</style>\n",
       "<table border=\"1\" class=\"dataframe\">\n",
       "  <thead>\n",
       "    <tr style=\"text-align: right;\">\n",
       "      <th></th>\n",
       "      <th>description</th>\n",
       "      <th>category</th>\n",
       "      <th>type</th>\n",
       "    </tr>\n",
       "  </thead>\n",
       "  <tbody>\n",
       "    <tr>\n",
       "      <th>0</th>\n",
       "      <td>Uber ride to office</td>\n",
       "      <td>Transport</td>\n",
       "      <td>Expense</td>\n",
       "    </tr>\n",
       "    <tr>\n",
       "      <th>1</th>\n",
       "      <td>Pizza and coke</td>\n",
       "      <td>Food</td>\n",
       "      <td>Expense</td>\n",
       "    </tr>\n",
       "    <tr>\n",
       "      <th>2</th>\n",
       "      <td>Monthly rent</td>\n",
       "      <td>Rent</td>\n",
       "      <td>Expense</td>\n",
       "    </tr>\n",
       "    <tr>\n",
       "      <th>3</th>\n",
       "      <td>Netflix subscription</td>\n",
       "      <td>Entertainment</td>\n",
       "      <td>Expense</td>\n",
       "    </tr>\n",
       "    <tr>\n",
       "      <th>4</th>\n",
       "      <td>Grocery shopping at Walmart</td>\n",
       "      <td>Food</td>\n",
       "      <td>Expense</td>\n",
       "    </tr>\n",
       "  </tbody>\n",
       "</table>\n",
       "</div>"
      ],
      "text/plain": [
       "                   description       category     type\n",
       "0          Uber ride to office      Transport  Expense\n",
       "1               Pizza and coke           Food  Expense\n",
       "2                 Monthly rent           Rent  Expense\n",
       "3         Netflix subscription  Entertainment  Expense\n",
       "4  Grocery shopping at Walmart           Food  Expense"
      ]
     },
     "execution_count": 1,
     "metadata": {},
     "output_type": "execute_result"
    }
   ],
   "source": [
    "# ! this is for the initial dataset creation and testing. later update csv and train the model from that\n",
    "import pandas as pd\n",
    "\n",
    "data = {\n",
    "    \"description\": [\n",
    "        \"Uber ride to office\",\n",
    "        \"Pizza and coke\",\n",
    "        \"Monthly rent\",\n",
    "        \"Netflix subscription\",\n",
    "        \"Grocery shopping at Walmart\",\n",
    "        \"Electricity bill\",\n",
    "        \"Bus ticket\",\n",
    "        \"Amazon shopping\",\n",
    "        \"Movie ticket\",\n",
    "        \"Water bill\",\n",
    "        \"Bought KFC chicken\",\n",
    "        \"Train to work\",\n",
    "        \"Paid internet bill\",\n",
    "        \"New shoes from Nike\",\n",
    "        \"Dinner at McDonald's\",\n",
    "        \"Salary credited for August\",\n",
    "        \"Freelance payment from client\",\n",
    "        \"Sold old bike - received ₹5000\",\n",
    "        \"Dividend received INR 2000\",\n",
    "        \"Refund from Amazon $15\"\n",
    "    ],\n",
    "    \"category\": [\n",
    "        \"Transport\",\"Food\",\"Rent\",\"Entertainment\",\"Food\",\"Bills\",\"Transport\",\"Shopping\",\"Entertainment\",\"Bills\",\n",
    "        \"Food\",\"Transport\",\"Bills\",\"Shopping\",\"Food\",\n",
    "        # income categories\n",
    "        \"Salary\",\"Freelance\",\"Sale\",\"Investment\",\"Refund\"\n",
    "    ],\n",
    "    \"type\": [\n",
    "        \"Expense\",\"Expense\",\"Expense\",\"Expense\",\"Expense\",\"Expense\",\"Expense\",\"Expense\",\"Expense\",\"Expense\",\n",
    "        \"Expense\",\"Expense\",\"Expense\",\"Expense\",\"Expense\",\n",
    "        \"Income\",\"Income\",\"Income\",\"Income\",\"Income\"\n",
    "    ]\n",
    "}\n",
    "\n",
    "df = pd.DataFrame(data)\n",
    "df.to_csv(\"expenses_income_dataset.csv\", index=False)\n",
    "df.head()"
   ]
  },
  {
   "cell_type": "code",
   "execution_count": 1,
   "id": "9fffa11a",
   "metadata": {},
   "outputs": [
    {
     "name": "stdout",
     "output_type": "stream",
     "text": [
      "Example (type): [('Rs. 1200 for a taxi to the airport', {'cats': {'Expense': 1, 'Income': 0}}), ('Rs. 150 for a short bus ride', {'cats': {'Expense': 1, 'Income': 0}})]\n",
      "Example (category): [('Rs. 1200 for a taxi to the airport', {'cats': {'Food': 0, 'Transport': 1, 'Rent': 0, 'Entertainment': 0, 'Shopping': 0, 'Bills': 0, 'Salary': 0, 'Freelance': 0, 'Sale': 0, 'Investment': 0, 'Refund': 0}}), ('Rs. 150 for a short bus ride', {'cats': {'Food': 0, 'Transport': 1, 'Rent': 0, 'Entertainment': 0, 'Shopping': 0, 'Bills': 0, 'Salary': 0, 'Freelance': 0, 'Sale': 0, 'Investment': 0, 'Refund': 0}})]\n"
     ]
    }
   ],
   "source": [
    "# --- Step 2: Prepare spaCy-format training data for two separate models ---\n",
    "import pandas as pd\n",
    "import random\n",
    "df = pd.read_csv(\"expenses_income_dataset.csv\")\n",
    "\n",
    "type_labels = [\"Expense\", \"Income\"]\n",
    "expense_cats = [\"Food\", \"Transport\", \"Rent\", \"Entertainment\", \"Shopping\", \"Bills\"]\n",
    "income_cats = [\"Salary\", \"Freelance\", \"Sale\", \"Investment\", \"Refund\"]\n",
    "all_cats = expense_cats + income_cats\n",
    "\n",
    "# prepare training lists: (text, {\"cats\": {...}})\n",
    "train_data_type = []\n",
    "train_data_cat = []\n",
    "for _, row in df.iterrows():\n",
    "    txt = row[\"description\"]\n",
    "    # type annotation (single-label)\n",
    "    t_cats = {lab: 1 if row[\"type\"] == lab else 0 for lab in type_labels}\n",
    "    train_data_type.append((txt, {\"cats\": t_cats}))\n",
    "    # category annotation (single-label across all categories)\n",
    "    c_cats = {cat: 1 if row[\"category\"] == cat else 0 for cat in all_cats}\n",
    "    train_data_cat.append((txt, {\"cats\": c_cats}))\n",
    "\n",
    "# quick shuffle\n",
    "combined = list(zip(train_data_type, train_data_cat))\n",
    "random.shuffle(combined)\n",
    "train_data_type, train_data_cat = zip(*combined)\n",
    "train_data_type = list(train_data_type)\n",
    "train_data_cat = list(train_data_cat)\n",
    "\n",
    "print(\"Example (type):\", train_data_type[:2])\n",
    "print(\"Example (category):\", train_data_cat[:2])\n"
   ]
  },
  {
   "cell_type": "code",
   "execution_count": 2,
   "id": "21c1c3a6",
   "metadata": {},
   "outputs": [
    {
     "name": "stdout",
     "output_type": "stream",
     "text": [
      "expense_income_type - Epoch 1/40 - Losses: {'textcat': 4.4340979233960525}\n",
      "expense_income_type - Epoch 5/40 - Losses: {'textcat': 5.319274730061774e-07}\n",
      "expense_income_type - Epoch 10/40 - Losses: {'textcat': 5.810616893761958e-08}\n",
      "expense_income_type - Epoch 15/40 - Losses: {'textcat': 1.574199633212585e-08}\n",
      "expense_income_type - Epoch 20/40 - Losses: {'textcat': 6.242964258832556e-09}\n",
      "expense_income_type - Epoch 25/40 - Losses: {'textcat': 2.8832993152327208e-09}\n",
      "expense_income_type - Epoch 30/40 - Losses: {'textcat': 1.503595485044442e-09}\n",
      "expense_income_type - Epoch 35/40 - Losses: {'textcat': 8.873567142170637e-10}\n",
      "expense_income_type - Epoch 40/40 - Losses: {'textcat': 5.310207564331515e-10}\n",
      "expense_income_category - Epoch 1/40 - Losses: {'textcat': 3.381336503662169}\n",
      "expense_income_category - Epoch 5/40 - Losses: {'textcat': 1.738734237055617e-05}\n",
      "expense_income_category - Epoch 10/40 - Losses: {'textcat': 3.4633906401126957e-07}\n",
      "expense_income_category - Epoch 15/40 - Losses: {'textcat': 8.871234661450567e-08}\n",
      "expense_income_category - Epoch 20/40 - Losses: {'textcat': 3.443568856453805e-08}\n",
      "expense_income_category - Epoch 25/40 - Losses: {'textcat': 1.6189097916397e-08}\n",
      "expense_income_category - Epoch 30/40 - Losses: {'textcat': 9.278866992465384e-09}\n",
      "expense_income_category - Epoch 35/40 - Losses: {'textcat': 4.926588735923443e-09}\n",
      "expense_income_category - Epoch 40/40 - Losses: {'textcat': 3.1090634483154495e-09}\n"
     ]
    }
   ],
   "source": [
    "# --- Step 3: Train two spaCy text categorizer models (type and category) ---\n",
    "import spacy\n",
    "from spacy.util import minibatch\n",
    "from spacy.training import Example\n",
    "\n",
    "def train_textcat_spacy(train_data, labels, model_name, n_iter=15):\n",
    "    nlp = spacy.blank(\"en\")\n",
    "    # Use factory defaults for spaCy v3; don't pass unsupported top-level keys\n",
    "    textcat = nlp.add_pipe(\"textcat\")  # removed config={\"exclusive_classes\": True, \"architecture\": \"simple_cnn\"}\n",
    "    for lb in labels:\n",
    "        textcat.add_label(lb)\n",
    "\n",
    "    optimizer = nlp.begin_training()\n",
    "    for epoch in range(n_iter):\n",
    "        random.shuffle(train_data)\n",
    "        losses = {}\n",
    "        batches = minibatch(train_data, size=4)\n",
    "        for batch in batches:\n",
    "            examples = []\n",
    "            for text, ann in batch:\n",
    "                doc = nlp.make_doc(text)\n",
    "                examples.append(Example.from_dict(doc, ann))\n",
    "            nlp.update(examples, sgd=optimizer, losses=losses)\n",
    "        if (epoch + 1) % 5 == 0 or epoch == 0:\n",
    "            print(f\"{model_name} - Epoch {epoch+1}/{n_iter} - Losses: {losses}\")\n",
    "    nlp.to_disk(\"../../../models/\"+model_name)\n",
    "    return nlp\n",
    "\n",
    "# Train type model\n",
    "nlp_type = train_textcat_spacy(train_data_type, type_labels, \"expense_income_type\", n_iter=40)\n",
    "\n",
    "# Train category model (all categories)\n",
    "nlp_cat = train_textcat_spacy(train_data_cat, all_cats, \"expense_income_category\", n_iter=40)\n"
   ]
  },
  {
   "cell_type": "code",
   "execution_count": 3,
   "id": "9e0a91da",
   "metadata": {},
   "outputs": [
    {
     "name": "stdout",
     "output_type": "stream",
     "text": [
      "{'type': 'Expense', 'category': 'Transport', 'amount': 'Rs.1000'}\n",
      "{'type': 'Expense', 'category': 'Food', 'amount': None}\n",
      "{'type': 'Expense', 'category': 'Food', 'amount': 'Rs 2,500'}\n",
      "{'type': 'Income', 'category': 'Refund', 'amount': '15'}\n"
     ]
    }
   ],
   "source": [
    "# --- Step 4: Load models and test combined prediction with money extraction ---\n",
    "import re\n",
    "# load models (if running later)\n",
    "nlp_type = spacy.load(\"../../expense_income_type\")\n",
    "nlp_cat = spacy.load(\"../../expense_income_category\")\n",
    "\n",
    "money_re = re.compile(r\"(?i)\\b(?:rs\\.?|inr|₹|\\$|usd)\\s?[0-9][0-9,]*(?:\\.[0-9]+)?\\b\")\n",
    "\n",
    "def extract_money(text):\n",
    "    m = money_re.search(text)\n",
    "    if m:\n",
    "        return m.group(0)\n",
    "    # optional: use spaCy NER if you load en_core_web_sm\n",
    "    try:\n",
    "        ner = spacy.load(\"en_core_web_sm\")\n",
    "        doc = ner(text)\n",
    "        for ent in doc.ents:\n",
    "            if ent.label_.upper() == \"MONEY\":\n",
    "                return ent.text\n",
    "    except Exception:\n",
    "        pass\n",
    "    return None\n",
    "\n",
    "def predict_type_and_category(text):\n",
    "    dt = nlp_type(text)\n",
    "    predicted_type = max(dt.cats, key=dt.cats.get)\n",
    "    dc = nlp_cat(text)\n",
    "    predicted_cat = max(dc.cats, key=dc.cats.get)\n",
    "    amount = extract_money(text)\n",
    "    # return {\"type\": predicted_type, \"category\": predicted_cat, \"amount\": amount, \"scores\": {\"type\": dt.cats, \"category\": dc.cats}}\n",
    "    return {\"type\": predicted_type, \"category\": predicted_cat, \"amount\": amount}\n",
    "\n",
    "# Tests\n",
    "print(predict_type_and_category(\"Rs.1000 Uber ride to office\"))   # expect Income/Expense -> Transport\n",
    "print(predict_type_and_category(\"Salary credited for August\"))    # expect Income -> Salary\n",
    "print(predict_type_and_category(\"Bought groceries at Walmart for Rs 2,500\"))  # expect Expense -> Food\n",
    "print(predict_type_and_category(\"Refund from Amazon $15\"))        # expect Income -> Refund"
   ]
  },
  {
   "cell_type": "code",
   "execution_count": 4,
   "id": "5f2c9886",
   "metadata": {},
   "outputs": [
    {
     "name": "stdout",
     "output_type": "stream",
     "text": [
      "{'type': 'Expense', 'category': 'Food', 'amount': 'Rs 2,500'}\n"
     ]
    }
   ],
   "source": [
    "print(predict_type_and_category(\"Bought groceries for Rs 2,500\"))  "
   ]
  },
  {
   "cell_type": "code",
   "execution_count": 5,
   "id": "b4c46b44",
   "metadata": {},
   "outputs": [
    {
     "name": "stdout",
     "output_type": "stream",
     "text": [
      "{'type': 'Expense', 'category': 'Transport', 'amount': 'rs 5000'}\n"
     ]
    }
   ],
   "source": [
    "print(predict_type_and_category(\"rs 5000 on uber ride\")) "
   ]
  },
  {
   "cell_type": "code",
   "execution_count": null,
   "id": "11b69df5",
   "metadata": {},
   "outputs": [],
   "source": []
  }
 ],
 "metadata": {
  "kernelspec": {
   "display_name": "venv_TensorFlow_cpu_1 (3.12.10)",
   "language": "python",
   "name": "python3"
  },
  "language_info": {
   "codemirror_mode": {
    "name": "ipython",
    "version": 3
   },
   "file_extension": ".py",
   "mimetype": "text/x-python",
   "name": "python",
   "nbconvert_exporter": "python",
   "pygments_lexer": "ipython3",
   "version": "3.12.10"
  }
 },
 "nbformat": 4,
 "nbformat_minor": 5
}
