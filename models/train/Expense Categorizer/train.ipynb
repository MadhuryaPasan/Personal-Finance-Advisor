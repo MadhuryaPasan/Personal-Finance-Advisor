{
 "cells": [
  {
   "cell_type": "code",
   "execution_count": 1,
   "id": "a7b33281",
   "metadata": {},
   "outputs": [
    {
     "data": {
      "application/vnd.microsoft.datawrangler.viewer.v0+json": {
       "columns": [
        {
         "name": "index",
         "rawType": "int64",
         "type": "integer"
        },
        {
         "name": "description",
         "rawType": "object",
         "type": "string"
        },
        {
         "name": "category",
         "rawType": "object",
         "type": "string"
        },
        {
         "name": "type",
         "rawType": "object",
         "type": "string"
        }
       ],
       "ref": "5352cb2d-a979-4e57-a00f-09d327e7b18f",
       "rows": [
        [
         "0",
         "Uber ride to office",
         "Transport",
         "Expense"
        ],
        [
         "1",
         "Pizza and coke",
         "Food",
         "Expense"
        ],
        [
         "2",
         "Monthly rent",
         "Rent",
         "Expense"
        ],
        [
         "3",
         "Netflix subscription",
         "Entertainment",
         "Expense"
        ],
        [
         "4",
         "Grocery shopping at Walmart",
         "Food",
         "Expense"
        ]
       ],
       "shape": {
        "columns": 3,
        "rows": 5
       }
      },
      "text/html": [
       "<div>\n",
       "<style scoped>\n",
       "    .dataframe tbody tr th:only-of-type {\n",
       "        vertical-align: middle;\n",
       "    }\n",
       "\n",
       "    .dataframe tbody tr th {\n",
       "        vertical-align: top;\n",
       "    }\n",
       "\n",
       "    .dataframe thead th {\n",
       "        text-align: right;\n",
       "    }\n",
       "</style>\n",
       "<table border=\"1\" class=\"dataframe\">\n",
       "  <thead>\n",
       "    <tr style=\"text-align: right;\">\n",
       "      <th></th>\n",
       "      <th>description</th>\n",
       "      <th>category</th>\n",
       "      <th>type</th>\n",
       "    </tr>\n",
       "  </thead>\n",
       "  <tbody>\n",
       "    <tr>\n",
       "      <th>0</th>\n",
       "      <td>Uber ride to office</td>\n",
       "      <td>Transport</td>\n",
       "      <td>Expense</td>\n",
       "    </tr>\n",
       "    <tr>\n",
       "      <th>1</th>\n",
       "      <td>Pizza and coke</td>\n",
       "      <td>Food</td>\n",
       "      <td>Expense</td>\n",
       "    </tr>\n",
       "    <tr>\n",
       "      <th>2</th>\n",
       "      <td>Monthly rent</td>\n",
       "      <td>Rent</td>\n",
       "      <td>Expense</td>\n",
       "    </tr>\n",
       "    <tr>\n",
       "      <th>3</th>\n",
       "      <td>Netflix subscription</td>\n",
       "      <td>Entertainment</td>\n",
       "      <td>Expense</td>\n",
       "    </tr>\n",
       "    <tr>\n",
       "      <th>4</th>\n",
       "      <td>Grocery shopping at Walmart</td>\n",
       "      <td>Food</td>\n",
       "      <td>Expense</td>\n",
       "    </tr>\n",
       "  </tbody>\n",
       "</table>\n",
       "</div>"
      ],
      "text/plain": [
       "                   description       category     type\n",
       "0          Uber ride to office      Transport  Expense\n",
       "1               Pizza and coke           Food  Expense\n",
       "2                 Monthly rent           Rent  Expense\n",
       "3         Netflix subscription  Entertainment  Expense\n",
       "4  Grocery shopping at Walmart           Food  Expense"
      ]
     },
     "execution_count": 1,
     "metadata": {},
     "output_type": "execute_result"
    }
   ],
   "source": [
    "# ! this is for the initial dataset creation and testing. later update csv and train the model from that\n",
    "import pandas as pd\n",
    "\n",
    "data = {\n",
    "    \"description\": [\n",
    "        \"Uber ride to office\",\n",
    "        \"Pizza and coke\",\n",
    "        \"Monthly rent\",\n",
    "        \"Netflix subscription\",\n",
    "        \"Grocery shopping at Walmart\",\n",
    "        \"Electricity bill\",\n",
    "        \"Bus ticket\",\n",
    "        \"Amazon shopping\",\n",
    "        \"Movie ticket\",\n",
    "        \"Water bill\",\n",
    "        \"Bought KFC chicken\",\n",
    "        \"Train to work\",\n",
    "        \"Paid internet bill\",\n",
    "        \"New shoes from Nike\",\n",
    "        \"Dinner at McDonald's\",\n",
    "        # income examples\n",
    "        \"Salary credited for August\",\n",
    "        \"Freelance payment from client\",\n",
    "        \"Sold old bike - received ₹5000\",\n",
    "        \"Dividend received INR 2000\",\n",
    "        \"Refund from Amazon $15\"\n",
    "    ],\n",
    "    \"category\": [\n",
    "        \"Transport\",\"Food\",\"Rent\",\"Entertainment\",\"Food\",\"Bills\",\"Transport\",\"Shopping\",\"Entertainment\",\"Bills\",\n",
    "        \"Food\",\"Transport\",\"Bills\",\"Shopping\",\"Food\",\n",
    "        # income categories\n",
    "        \"Salary\",\"Freelance\",\"Sale\",\"Investment\",\"Refund\"\n",
    "    ],\n",
    "    \"type\": [\n",
    "        \"Expense\",\"Expense\",\"Expense\",\"Expense\",\"Expense\",\"Expense\",\"Expense\",\"Expense\",\"Expense\",\"Expense\",\n",
    "        \"Expense\",\"Expense\",\"Expense\",\"Expense\",\"Expense\",\n",
    "        \"Income\",\"Income\",\"Income\",\"Income\",\"Income\"\n",
    "    ]\n",
    "}\n",
    "\n",
    "df = pd.DataFrame(data)\n",
    "df.to_csv(\"expenses_income_dataset.csv\", index=False)\n",
    "df.head()"
   ]
  },
  {
   "cell_type": "code",
   "execution_count": 2,
   "id": "9fffa11a",
   "metadata": {},
   "outputs": [
    {
     "name": "stdout",
     "output_type": "stream",
     "text": [
      "Example (type): [('Salary credited for August', {'cats': {'Expense': 0, 'Income': 1}}), ('Paid internet bill', {'cats': {'Expense': 1, 'Income': 0}})]\n",
      "Example (category): [('Salary credited for August', {'cats': {'Food': 0, 'Transport': 0, 'Rent': 0, 'Entertainment': 0, 'Shopping': 0, 'Bills': 0, 'Salary': 1, 'Freelance': 0, 'Sale': 0, 'Investment': 0, 'Refund': 0}}), ('Paid internet bill', {'cats': {'Food': 0, 'Transport': 0, 'Rent': 0, 'Entertainment': 0, 'Shopping': 0, 'Bills': 1, 'Salary': 0, 'Freelance': 0, 'Sale': 0, 'Investment': 0, 'Refund': 0}})]\n"
     ]
    }
   ],
   "source": [
    "# --- Step 2: Prepare spaCy-format training data for two separate models ---\n",
    "import random\n",
    "df = pd.read_csv(\"expenses_income_dataset.csv\")\n",
    "\n",
    "type_labels = [\"Expense\", \"Income\"]\n",
    "expense_cats = [\"Food\", \"Transport\", \"Rent\", \"Entertainment\", \"Shopping\", \"Bills\"]\n",
    "income_cats = [\"Salary\", \"Freelance\", \"Sale\", \"Investment\", \"Refund\"]\n",
    "all_cats = expense_cats + income_cats\n",
    "\n",
    "# prepare training lists: (text, {\"cats\": {...}})\n",
    "train_data_type = []\n",
    "train_data_cat = []\n",
    "for _, row in df.iterrows():\n",
    "    txt = row[\"description\"]\n",
    "    # type annotation (single-label)\n",
    "    t_cats = {lab: 1 if row[\"type\"] == lab else 0 for lab in type_labels}\n",
    "    train_data_type.append((txt, {\"cats\": t_cats}))\n",
    "    # category annotation (single-label across all categories)\n",
    "    c_cats = {cat: 1 if row[\"category\"] == cat else 0 for cat in all_cats}\n",
    "    train_data_cat.append((txt, {\"cats\": c_cats}))\n",
    "\n",
    "# quick shuffle\n",
    "combined = list(zip(train_data_type, train_data_cat))\n",
    "random.shuffle(combined)\n",
    "train_data_type, train_data_cat = zip(*combined)\n",
    "train_data_type = list(train_data_type)\n",
    "train_data_cat = list(train_data_cat)\n",
    "\n",
    "print(\"Example (type):\", train_data_type[:2])\n",
    "print(\"Example (category):\", train_data_cat[:2])\n"
   ]
  },
  {
   "cell_type": "code",
   "execution_count": 3,
   "id": "21c1c3a6",
   "metadata": {},
   "outputs": [
    {
     "name": "stdout",
     "output_type": "stream",
     "text": [
      "expense_income_type - Epoch 1/12 - Losses: {'textcat': 1.2141835391521454}\n",
      "expense_income_type - Epoch 5/12 - Losses: {'textcat': 0.0017439418315916555}\n",
      "expense_income_type - Epoch 10/12 - Losses: {'textcat': 1.5532534680673393e-07}\n",
      "expense_income_category - Epoch 1/20 - Losses: {'textcat': 0.41283443570137024}\n",
      "expense_income_category - Epoch 5/20 - Losses: {'textcat': 0.20674003288149834}\n",
      "expense_income_category - Epoch 10/20 - Losses: {'textcat': 0.007174970407504588}\n",
      "expense_income_category - Epoch 15/20 - Losses: {'textcat': 2.4116187461231675e-05}\n",
      "expense_income_category - Epoch 20/20 - Losses: {'textcat': 1.2712395118796849e-06}\n"
     ]
    }
   ],
   "source": [
    "# --- Step 3: Train two spaCy text categorizer models (type and category) ---\n",
    "import spacy\n",
    "from spacy.util import minibatch\n",
    "from spacy.training import Example\n",
    "\n",
    "def train_textcat_spacy(train_data, labels, model_name, n_iter=15):\n",
    "    nlp = spacy.blank(\"en\")\n",
    "    # Use factory defaults for spaCy v3; don't pass unsupported top-level keys\n",
    "    textcat = nlp.add_pipe(\"textcat\")  # removed config={\"exclusive_classes\": True, \"architecture\": \"simple_cnn\"}\n",
    "    for lb in labels:\n",
    "        textcat.add_label(lb)\n",
    "\n",
    "    optimizer = nlp.begin_training()\n",
    "    for epoch in range(n_iter):\n",
    "        random.shuffle(train_data)\n",
    "        losses = {}\n",
    "        batches = minibatch(train_data, size=4)\n",
    "        for batch in batches:\n",
    "            examples = []\n",
    "            for text, ann in batch:\n",
    "                doc = nlp.make_doc(text)\n",
    "                examples.append(Example.from_dict(doc, ann))\n",
    "            nlp.update(examples, sgd=optimizer, losses=losses)\n",
    "        if (epoch + 1) % 5 == 0 or epoch == 0:\n",
    "            print(f\"{model_name} - Epoch {epoch+1}/{n_iter} - Losses: {losses}\")\n",
    "    nlp.to_disk(\"../../../models/\"+model_name)\n",
    "    return nlp\n",
    "\n",
    "# Train type model\n",
    "nlp_type = train_textcat_spacy(train_data_type, type_labels, \"expense_income_type\", n_iter=12)\n",
    "\n",
    "# Train category model (all categories)\n",
    "nlp_cat = train_textcat_spacy(train_data_cat, all_cats, \"expense_income_category\", n_iter=20)\n"
   ]
  },
  {
   "cell_type": "code",
   "execution_count": 5,
   "id": "9e0a91da",
   "metadata": {},
   "outputs": [
    {
     "name": "stdout",
     "output_type": "stream",
     "text": [
      "{'type': 'Expense', 'category': 'Transport', 'amount': 'Rs.1000'}\n",
      "{'type': 'Income', 'category': 'Salary', 'amount': None}\n",
      "{'type': 'Expense', 'category': 'Food', 'amount': 'Rs 2,500'}\n",
      "{'type': 'Income', 'category': 'Refund', 'amount': '15'}\n"
     ]
    }
   ],
   "source": [
    "# --- Step 4: Load models and test combined prediction with money extraction ---\n",
    "import re\n",
    "# load models (if running later)\n",
    "nlp_type = spacy.load(\"../../expense_income_type\")\n",
    "nlp_cat = spacy.load(\"../../expense_income_category\")\n",
    "\n",
    "money_re = re.compile(r\"(?i)\\b(?:rs\\.?|inr|₹|\\$|usd)\\s?[0-9][0-9,]*(?:\\.[0-9]+)?\\b\")\n",
    "\n",
    "def extract_money(text):\n",
    "    m = money_re.search(text)\n",
    "    if m:\n",
    "        return m.group(0)\n",
    "    # optional: use spaCy NER if you load en_core_web_sm\n",
    "    try:\n",
    "        ner = spacy.load(\"en_core_web_sm\")\n",
    "        doc = ner(text)\n",
    "        for ent in doc.ents:\n",
    "            if ent.label_.upper() == \"MONEY\":\n",
    "                return ent.text\n",
    "    except Exception:\n",
    "        pass\n",
    "    return None\n",
    "\n",
    "def predict_type_and_category(text):\n",
    "    dt = nlp_type(text)\n",
    "    predicted_type = max(dt.cats, key=dt.cats.get)\n",
    "    dc = nlp_cat(text)\n",
    "    predicted_cat = max(dc.cats, key=dc.cats.get)\n",
    "    amount = extract_money(text)\n",
    "    # return {\"type\": predicted_type, \"category\": predicted_cat, \"amount\": amount, \"scores\": {\"type\": dt.cats, \"category\": dc.cats}}\n",
    "    return {\"type\": predicted_type, \"category\": predicted_cat, \"amount\": amount}\n",
    "\n",
    "# Tests\n",
    "print(predict_type_and_category(\"Rs.1000 Uber ride to office\"))   # expect Income/Expense -> Transport\n",
    "print(predict_type_and_category(\"Salary credited for August\"))    # expect Income -> Salary\n",
    "print(predict_type_and_category(\"Bought groceries at Walmart for Rs 2,500\"))  # expect Expense -> Food\n",
    "print(predict_type_and_category(\"Refund from Amazon $15\"))        # expect Income -> Refund"
   ]
  },
  {
   "cell_type": "code",
   "execution_count": null,
   "id": "5f2c9886",
   "metadata": {},
   "outputs": [],
   "source": []
  }
 ],
 "metadata": {
  "kernelspec": {
   "display_name": "Python 3",
   "language": "python",
   "name": "python3"
  },
  "language_info": {
   "codemirror_mode": {
    "name": "ipython",
    "version": 3
   },
   "file_extension": ".py",
   "mimetype": "text/x-python",
   "name": "python",
   "nbconvert_exporter": "python",
   "pygments_lexer": "ipython3",
   "version": "3.12.10"
  }
 },
 "nbformat": 4,
 "nbformat_minor": 5
}
