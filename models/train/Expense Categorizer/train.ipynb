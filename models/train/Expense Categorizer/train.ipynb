{
 "cells": [
  {
   "cell_type": "code",
   "execution_count": 56,
   "id": "12a6dd61",
   "metadata": {},
   "outputs": [],
   "source": [
    "# ! pip install spacy\n",
    "# ! pip install pandas"
   ]
  },
  {
   "cell_type": "markdown",
   "id": "07aa7ae9",
   "metadata": {},
   "source": [
    "Prepare spaCy-format training data for two separate models"
   ]
  },
  {
   "cell_type": "code",
   "execution_count": 57,
   "id": "e55b2bab",
   "metadata": {},
   "outputs": [],
   "source": [
    "import random\n",
    "import pandas as pd\n",
    "\n",
    "# Load the dataset (CSV file must have columns like: description, type, category)\n",
    "df = pd.read_csv(\"expenses_income_dataset.csv\")\n"
   ]
  },
  {
   "cell_type": "code",
   "execution_count": 58,
   "id": "cf1bff06",
   "metadata": {},
   "outputs": [],
   "source": [
    "# Define possible labels for the \"type\" classification (binary: Expense or Income)\n",
    "type_labels = [\"Expense\", \"Income\"]\n",
    "# Define possible categories for \"Expense\" type\n",
    "expense_cats = [\"Food\", \"Transport\", \"Rent\", \"Entertainment\", \"Shopping\", \"Bills\"]\n",
    "# Define possible categories for \"Income\" type\n",
    "income_cats = [\"Salary\", \"Freelance\", \"Sale\", \"Investment\", \"Refund\"]\n",
    "\n",
    "# Combine expense and income categories into one list\n",
    "all_cats = expense_cats + income_cats\n"
   ]
  },
  {
   "cell_type": "code",
   "execution_count": 59,
   "id": "27a7a5f6",
   "metadata": {},
   "outputs": [],
   "source": [
    "# Prepare training lists\n",
    "train_data_type = []   # For classifying whether text is \"Expense\" or \"Income\"\n",
    "train_data_cat = []    # For classifying into detailed categories"
   ]
  },
  {
   "cell_type": "code",
   "execution_count": 60,
   "id": "57ee3705",
   "metadata": {},
   "outputs": [],
   "source": [
    "for _, row in df.iterrows():\n",
    "    txt = row[\"description\"]\n",
    "    t_cats = {lab: 1 if row[\"type\"] == lab else 0 for lab in type_labels}\n",
    "    train_data_type.append((txt, {\"cats\": t_cats}))\n",
    "    c_cats = {cat: 1 if row[\"category\"] == cat else 0 for cat in all_cats}\n",
    "    train_data_cat.append((txt, {\"cats\": c_cats}))\n"
   ]
  },
  {
   "cell_type": "code",
   "execution_count": 61,
   "id": "a0ffba13",
   "metadata": {},
   "outputs": [],
   "source": [
    "combined = list(zip(train_data_type, train_data_cat))\n",
    "random.shuffle(combined)\n",
    "train_data_type, train_data_cat = zip(*combined)\n",
    "train_data_type = list(train_data_type)\n",
    "train_data_cat = list(train_data_cat)"
   ]
  },
  {
   "cell_type": "code",
   "execution_count": 62,
   "id": "4443106a",
   "metadata": {},
   "outputs": [
    {
     "name": "stdout",
     "output_type": "stream",
     "text": [
      "Example (type): [('Rs. 3000 for a gaming subscription', {'cats': {'Expense': 1, 'Income': 0}}), ('Bus ticket for Rs. 160', {'cats': {'Expense': 1, 'Income': 0}})]\n",
      "Example (category): [('Rs. 3000 for a gaming subscription', {'cats': {'Food': 0, 'Transport': 0, 'Rent': 0, 'Entertainment': 1, 'Shopping': 0, 'Bills': 0, 'Salary': 0, 'Freelance': 0, 'Sale': 0, 'Investment': 0, 'Refund': 0}}), ('Bus ticket for Rs. 160', {'cats': {'Food': 0, 'Transport': 1, 'Rent': 0, 'Entertainment': 0, 'Shopping': 0, 'Bills': 0, 'Salary': 0, 'Freelance': 0, 'Sale': 0, 'Investment': 0, 'Refund': 0}})]\n"
     ]
    }
   ],
   "source": [
    "print(\"Example (type):\", train_data_type[:2])\n",
    "print(\"Example (category):\", train_data_cat[:2])\n"
   ]
  },
  {
   "cell_type": "markdown",
   "id": "ef9165c2",
   "metadata": {},
   "source": [
    "Train two spaCy text categorizer models (type and category)"
   ]
  },
  {
   "cell_type": "code",
   "execution_count": 63,
   "id": "7df73c60",
   "metadata": {},
   "outputs": [],
   "source": [
    "#Imports required for spaCy textcat training\n",
    "import spacy\n",
    "from spacy.util import minibatch\n",
    "from spacy.training import Example"
   ]
  },
  {
   "cell_type": "code",
   "execution_count": 64,
   "id": "016fee58",
   "metadata": {},
   "outputs": [],
   "source": [
    "#Training function signature & defaults\n",
    "def train_textcat_spacy(train_data, labels, model_name, n_iter=20):\n",
    "    nlp = spacy.blank(\"en\")\n",
    "\n",
    "    #Using factory defaults for spaCy v3; avoid deprecated top-level config.\n",
    "    textcat = nlp.add_pipe(\"textcat\") #Revoved config={\"exclusive_clasess\":True, \"architecture\": \"simple_cnn\"}\n",
    "\n",
    "    for lb in labels:\n",
    "        textcat.add_label(lb)\n",
    "\n",
    "    #Initialize optimizer \n",
    "    optimizer = nlp.begin_training()\n",
    "\n",
    "    for epoch in range(n_iter):\n",
    "        random.shuffle(train_data)   #Avoid order bias each epoch\n",
    "        losses = {}\n",
    "        batches = minibatch(train_data, size=4)\n",
    "\n",
    "        #Small, fixed-size batches for stable updates\n",
    "        for batch in batches:\n",
    "            examples = []\n",
    "            for text, ann in batch:\n",
    "                doc = nlp.make_doc(text)\n",
    "                examples.append(Example.from_dict(doc, ann))\n",
    "            #Single optimizer step on this batch\n",
    "            nlp.update(examples, sgd=optimizer, losses=losses)\n",
    "\n",
    "        #Log at first epoch and then every 5 epochs\n",
    "        if (epoch + 1) % 5 == 0 or epoch == 0:\n",
    "            print(f\"{model_name} - Epoch {epoch+1}/{n_iter} - Losses: {losses}\")\n",
    "\n",
    "    #Save to disk & return trained pipeline \n",
    "    nlp.to_disk(\"../../../models/\" + model_name)\n",
    "    return nlp\n"
   ]
  },
  {
   "cell_type": "code",
   "execution_count": 65,
   "id": "4ee6d769",
   "metadata": {},
   "outputs": [
    {
     "name": "stdout",
     "output_type": "stream",
     "text": [
      "expense_income_type - Epoch 1/12 - Losses: {'textcat': 3.1950512100676605}\n",
      "expense_income_type - Epoch 5/12 - Losses: {'textcat': 1.8456034747704742e-07}\n",
      "expense_income_type - Epoch 10/12 - Losses: {'textcat': 2.2904514066640624e-08}\n"
     ]
    }
   ],
   "source": [
    "#Train type model\n",
    "#Requires: train_data_type (list), type_labels (list)\n",
    "nlp_type = train_textcat_spacy(\n",
    "    train_data_type,\n",
    "    type_labels,\n",
    "    \"expense_income_type\",\n",
    "    n_iter=12\n",
    ")"
   ]
  },
  {
   "cell_type": "code",
   "execution_count": 66,
   "id": "0be677ab",
   "metadata": {},
   "outputs": [
    {
     "name": "stdout",
     "output_type": "stream",
     "text": [
      "expense_income_category - Epoch 1/20 - Losses: {'textcat': 3.465250361710787}\n",
      "expense_income_category - Epoch 5/20 - Losses: {'textcat': 0.00671335164552378}\n",
      "expense_income_category - Epoch 10/20 - Losses: {'textcat': 3.9909270621585335e-07}\n",
      "expense_income_category - Epoch 15/20 - Losses: {'textcat': 1.0014662169682831e-07}\n",
      "expense_income_category - Epoch 20/20 - Losses: {'textcat': 3.870965425284423e-08}\n"
     ]
    }
   ],
   "source": [
    "#Train category model (all categories)\n",
    "#Requires: train_data_cat (list), all_cats (list)\n",
    "nlp_cat = train_textcat_spacy(\n",
    "    train_data_cat,\n",
    "    all_cats,\n",
    "    \"expense_income_category\",\n",
    "    n_iter=20\n",
    ")"
   ]
  },
  {
   "cell_type": "code",
   "execution_count": 67,
   "id": "ba77424a",
   "metadata": {},
   "outputs": [
    {
     "name": "stdout",
     "output_type": "stream",
     "text": [
      "{'type': 'Expense', 'category': 'Transport', 'amount': 'Rs.1000'}\n",
      "{'type': 'Expense', 'category': 'Food', 'amount': None}\n",
      "{'type': 'Expense', 'category': 'Food', 'amount': 'Rs 2,500'}\n",
      "{'type': 'Income', 'category': 'Refund', 'amount': '15'}\n"
     ]
    }
   ],
   "source": [
    "# for testing\n",
    "\n",
    "import re\n",
    "# load models (if running later)\n",
    "nlp_type = spacy.load(\"../../expense_income_type\")\n",
    "nlp_cat = spacy.load(\"../../expense_income_category\")\n",
    "\n",
    "money_re = re.compile(r\"(?i)\\b(?:rs\\.?|inr|₹|\\$|usd)\\s?[0-9][0-9,]*(?:\\.[0-9]+)?\\b\")\n",
    "\n",
    "def extract_money(text):\n",
    "    m = money_re.search(text)\n",
    "    if m:\n",
    "        return m.group(0)\n",
    "    # optional: use spaCy NER if you load en_core_web_sm\n",
    "    try:\n",
    "        ner = spacy.load(\"en_core_web_sm\")\n",
    "        doc = ner(text)\n",
    "        for ent in doc.ents:\n",
    "            if ent.label_.upper() == \"MONEY\":\n",
    "                return ent.text\n",
    "    except Exception:\n",
    "        pass\n",
    "    return None\n",
    "\n",
    "def predict_type_and_category(text):\n",
    "    dt = nlp_type(text)\n",
    "    predicted_type = max(dt.cats, key=dt.cats.get)\n",
    "    dc = nlp_cat(text)\n",
    "    predicted_cat = max(dc.cats, key=dc.cats.get)\n",
    "    amount = extract_money(text)\n",
    "    # return {\"type\": predicted_type, \"category\": predicted_cat, \"amount\": amount, \"scores\": {\"type\": dt.cats, \"category\": dc.cats}}\n",
    "    return {\"type\": predicted_type, \"category\": predicted_cat, \"amount\": amount}\n",
    "\n",
    "# Tests\n",
    "print(predict_type_and_category(\"Rs.1000 Uber ride to office\"))   # expect Income/Expense -> Transport\n",
    "print(predict_type_and_category(\"Salary credited for August\"))    # expect Income -> Salary\n",
    "print(predict_type_and_category(\"Bought groceries at Walmart for Rs 2,500\"))  # expect Expense -> Food\n",
    "print(predict_type_and_category(\"Refund from Amazon $15\"))        # expect Income -> Refund"
   ]
  },
  {
   "cell_type": "code",
   "execution_count": 68,
   "id": "62b45d5c",
   "metadata": {},
   "outputs": [
    {
     "name": "stdout",
     "output_type": "stream",
     "text": [
      "{'type': 'Expense', 'category': 'Food', 'amount': 'Rs 2,500'}\n"
     ]
    }
   ],
   "source": [
    "print(predict_type_and_category(\"Bought groceries for Rs 2,500\")) "
   ]
  },
  {
   "cell_type": "code",
   "execution_count": 69,
   "id": "13e524c6",
   "metadata": {},
   "outputs": [
    {
     "name": "stdout",
     "output_type": "stream",
     "text": [
      "{'type': 'Expense', 'category': 'Transport', 'amount': 'rs 5000'}\n"
     ]
    }
   ],
   "source": [
    "print(predict_type_and_category(\"rs 5000 on uber ride\")) "
   ]
  },
  {
   "cell_type": "code",
   "execution_count": null,
   "id": "3e3337a8",
   "metadata": {},
   "outputs": [],
   "source": []
  }
 ],
 "metadata": {
  "kernelspec": {
   "display_name": "venv_TensorFlow_cpu_1 (3.12.10)",
   "language": "python",
   "name": "python3"
  },
  "language_info": {
   "codemirror_mode": {
    "name": "ipython",
    "version": 3
   },
   "file_extension": ".py",
   "mimetype": "text/x-python",
   "name": "python",
   "nbconvert_exporter": "python",
   "pygments_lexer": "ipython3",
   "version": "3.12.10"
  }
 },
 "nbformat": 4,
 "nbformat_minor": 5
}
