{
 "cells": [
  {
   "cell_type": "code",
   "execution_count": null,
   "id": "12a6dd61",
   "metadata": {},
   "outputs": [],
   "source": [
    "! pip install spacy\n",
    "! pip install pandas"
   ]
  },
  {
   "cell_type": "markdown",
   "id": "07aa7ae9",
   "metadata": {},
   "source": [
    "Prepare spaCy-format training data for two separate models"
   ]
  },
  {
   "cell_type": "code",
   "execution_count": null,
   "id": "e55b2bab",
   "metadata": {},
   "outputs": [],
   "source": [
    "import random\n",
    "import pandas as pd\n",
    "\n",
    "# Load the dataset (CSV file must have columns like: description, type, category)\n",
    "df = pd.read_csv(\"expenses_income_dataset.csv\")\n"
   ]
  },
  {
   "cell_type": "code",
   "execution_count": null,
   "id": "cf1bff06",
   "metadata": {},
   "outputs": [],
   "source": [
    "# Define possible labels for the \"type\" classification (binary: Expense or Income)\n",
    "type_labels = [\"Expense\", \"Income\"]\n",
    "# Define possible categories for \"Expense\" type\n",
    "expense_cats = [\"Food\", \"Transport\", \"Rent\", \"Entertainment\", \"Shopping\", \"Bills\"]\n",
    "# Define possible categories for \"Income\" type\n",
    "income_cats = [\"Salary\", \"Freelance\", \"Sale\", \"Investment\", \"Refund\"]\n",
    "\n",
    "# Combine expense and income categories into one list\n",
    "all_cats = expense_cats + income_cats\n"
   ]
  },
  {
   "cell_type": "code",
   "execution_count": null,
   "id": "27a7a5f6",
   "metadata": {},
   "outputs": [],
   "source": [
    "# Prepare training lists\n",
    "train_data_type = []   # For classifying whether text is \"Expense\" or \"Income\"\n",
    "train_data_cat = []    # For classifying into detailed categories"
   ]
  },
  {
   "cell_type": "code",
   "execution_count": null,
   "id": "57ee3705",
   "metadata": {},
   "outputs": [],
   "source": [
    "for _, row in df.iterrows():\n",
    "    txt = row[\"description\"]\n",
    "    t_cats = {lab: 1 if row[\"type\"] == lab else 0 for lab in type_labels}\n",
    "    train_data_type.append((txt, {\"cats\": t_cats}))\n",
    "    c_cats = {cat: 1 if row[\"category\"] == cat else 0 for cat in all_cats}\n",
    "    train_data_cat.append((txt, {\"cats\": c_cats}))\n"
   ]
  },
  {
   "cell_type": "code",
   "execution_count": null,
   "id": "a0ffba13",
   "metadata": {},
   "outputs": [],
   "source": [
    "combined = list(zip(train_data_type, train_data_cat))\n",
    "random.shuffle(combined)\n",
    "train_data_type, train_data_cat = zip(*combined)\n",
    "train_data_type = list(train_data_type)\n",
    "train_data_cat = list(train_data_cat)"
   ]
  },
  {
   "cell_type": "code",
   "execution_count": null,
   "id": "4443106a",
   "metadata": {},
   "outputs": [],
   "source": [
    "print(\"Example (type):\", train_data_type[:2])\n",
    "print(\"Example (category):\", train_data_cat[:2])\n"
   ]
  },
  {
   "cell_type": "markdown",
   "id": "ef9165c2",
   "metadata": {},
   "source": [
    "Train two spaCy text categorizer models (type and category)"
   ]
  },
  {
   "cell_type": "code",
   "execution_count": null,
   "id": "7df73c60",
   "metadata": {},
   "outputs": [],
   "source": [
    "#Imports required for spaCy textcat training\n",
    "import spacy\n",
    "from spacy.util import minibatch\n",
    "from spacy.training import Example"
   ]
  },
  {
   "cell_type": "code",
   "execution_count": null,
   "id": "016fee58",
   "metadata": {},
   "outputs": [],
   "source": [
    "#Training function signature & defaults\n",
    "def train_textcat_spacy(train_data, labels, model_name, n_iter=15):\n",
    "    nlp = spacy.blank(\"en\")\n",
    "\n",
    "    #Using factory defaults for spaCy v3; avoid deprecated top-level config.\n",
    "    textcat = nlp.add_pipe(\"textcat\") #Revoved config={\"exclusive_clasess\":True, \"architecture\": \"simple_cnn\"}\n",
    "\n",
    "    for lb in labels:\n",
    "        textcat.add_label(lb)\n",
    "\n",
    "    #Initialize optimizer \n",
    "    optimizer = nlp.begin_training()\n",
    "\n",
    "    for epoch in range(n_iter):\n",
    "        random.shuffle(train_data)   #Avoid order bias each epoch\n",
    "        losses = {}\n",
    "        batches = minibatch(train_data, size=4)\n",
    "\n",
    "        #Small, fixed-size batches for stable updates\n",
    "        for batch in batches:\n",
    "            examples = []\n",
    "            for text, ann in batch:\n",
    "                doc = nlp.make_doc(text)\n",
    "                examples.append(Example.from_dict(doc, ann))\n",
    "\n",
    "            #Single optimizer step on this batch\n",
    "            nlp.update(examples, sgd=optimizer, losses=losses)\n",
    "\n",
    "        #Log at first epoch and then every 5 epochs\n",
    "        if (epoch + 1) % 5 == 0 or epoch == 0:\n",
    "            print(f\"{model_name} - Epoch {epoch+1}/{n_iter} - Losses: {losses}\")\n",
    "\n",
    "    #Save to disk & return trained pipeline \n",
    "    nlp.to_disk(\"../../../../models/\" + model_name)\n",
    "    return nlp\n"
   ]
  },
  {
   "cell_type": "code",
   "execution_count": null,
   "id": "4ee6d769",
   "metadata": {},
   "outputs": [],
   "source": []
  }
 ],
 "metadata": {
  "kernelspec": {
   "display_name": "Python 3",
   "language": "python",
   "name": "python3"
  },
  "language_info": {
   "codemirror_mode": {
    "name": "ipython",
    "version": 3
   },
   "file_extension": ".py",
   "mimetype": "text/x-python",
   "name": "python",
   "nbconvert_exporter": "python",
   "pygments_lexer": "ipython3",
   "version": "3.12.10"
  }
 },
 "nbformat": 4,
 "nbformat_minor": 5
}
